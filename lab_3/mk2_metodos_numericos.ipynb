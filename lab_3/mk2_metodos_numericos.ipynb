{
  "cells": [
    {
      "cell_type": "markdown",
      "metadata": {
        "id": "d7ttL-bljdCM"
      },
      "source": [
        "# Manipulador MK2: Este manipulador cuenta con 3 grados de libertad dados por 3 actuadores tipo servomotor.\n",
        "\n",
        "<img src=\"https://raw.githubusercontent.com/uwulises/ME3250_tareas_laboratorios/refs/heads/main/mk2.png\" width=\"500\">"
      ]
    },
    {
      "cell_type": "markdown",
      "metadata": {
        "id": "c_XmYN-Kjaah"
      },
      "source": [
        "### Requerimientos"
      ]
    },
    {
      "cell_type": "code",
      "execution_count": 1,
      "metadata": {
        "id": "O2qiQaXhYKSZ"
      },
      "outputs": [],
      "source": [
        "%%capture\n",
        "# Install necessary libraries\n",
        "!pip install ipywidgets\n",
        "!pip install matplotlib"
      ]
    },
    {
      "cell_type": "code",
      "source": [
        "from ipywidgets import interact, interactive, fixed, interact_manual\n",
        "import ipywidgets as widgets\n",
        "import matplotlib.pyplot as plt\n",
        "import numpy as np"
      ],
      "metadata": {
        "id": "3od_qPlZCRBx"
      },
      "execution_count": 2,
      "outputs": []
    },
    {
      "cell_type": "code",
      "execution_count": 3,
      "metadata": {
        "id": "6EhkknNVyz3Y"
      },
      "outputs": [],
      "source": [
        "# transformaciones\n",
        "\n",
        "class Transformations:\n",
        "\n",
        "    def translation_transform(self,x, y, z):\n",
        "\n",
        "        return np.array([[1, 0, 0, x], [0, 1, 0, y], [0, 0, 1, z], [0, 0, 0, 1]])\n",
        "\n",
        "\n",
        "    def rot_x(self, qx):\n",
        "\n",
        "        return np.array([[1, 0, 0, 0], [0, np.cos(qx), -np.sin(qx), 0], [0, np.sin(qx), np.cos(qx), 0], [0, 0, 0, 1]])\n",
        "\n",
        "\n",
        "    def rot_y(self, qy):\n",
        "\n",
        "        return np.array([[np.cos(qy), 0, np.sin(qy), 0], [0, 1, 0, 0], [-np.sin(qy), 0, np.cos(qy), 0], [0, 0, 0, 1]])\n",
        "\n",
        "\n",
        "    def rot_z(self, qz):\n",
        "\n",
        "        return np.array([[np.cos(qz), -np.sin(qz), 0, 0], [np.sin(qz), np.cos(qz), 0, 0], [0, 0, 1, 0], [0, 0, 0, 1]])"
      ]
    },
    {
      "cell_type": "code",
      "execution_count": 4,
      "metadata": {
        "id": "syXYGJGkzHBh"
      },
      "outputs": [],
      "source": [
        "class PoseGenerator:\n",
        "    def __init__(self):\n",
        "        self.fig=None\n",
        "        self.fig3D = None\n",
        "        self.ax=None\n",
        "        self.ax3D=None\n",
        "\n",
        "    def create_fig3D(self):\n",
        "            self.fig3D = plt.figure(figsize=(10, 6))\n",
        "            self.ax3D = self.fig3D.add_subplot(111, projection='3d')\n",
        "            self.ax3D.axis('equal')\n",
        "            self.ax3D.set_xlim([-210,210])\n",
        "            self.ax3D.set_ylim([-210,210])\n",
        "            self.ax3D.set_zlim([-210,210])\n",
        "            return self.ax3D, self.fig3D\n",
        "\n",
        "    def show_fig(self):\n",
        "        plt.show()\n",
        "\n",
        "    def draw_axes_tf(self, pose, name=\"\", color=\"k\",marker_length=50):\n",
        "                self.ax3D.set_title(\"MLF MK2\")\n",
        "                origin_pose = np.transpose(pose)[3, 0:3]\n",
        "                x_rot = np.linalg.multi_dot([pose, [1, 0, 0, 0]])\n",
        "                y_rot = np.linalg.multi_dot([pose, [0, 1, 0, 0]])\n",
        "                z_rot = np.linalg.multi_dot([pose, [0, 0, 1, 0]])\n",
        "                self.ax3D.quiver(origin_pose[0], origin_pose[1], origin_pose[2], x_rot[0],\n",
        "                        x_rot[1], x_rot[2], length=marker_length, normalize=True, color='r')\n",
        "                self.ax3D.quiver(origin_pose[0], origin_pose[1], origin_pose[2], y_rot[0],\n",
        "                        y_rot[1], y_rot[2], length=marker_length, normalize=True, color='g')\n",
        "                self.ax3D.quiver(origin_pose[0], origin_pose[1], origin_pose[2], z_rot[0],\n",
        "                        z_rot[1], z_rot[2], length=marker_length, normalize=True, color='b')\n",
        "                self.ax3D.scatter(xs=[origin_pose[0]], ys=[origin_pose[1]],zs=[origin_pose[2]], marker='o', label=name)\n",
        "                self.ax3D.legend(loc='upper right', bbox_to_anchor=(1.5, 1))"
      ]
    },
    {
      "cell_type": "markdown",
      "metadata": {
        "id": "ea2lPBi9843p"
      },
      "source": [
        "\n",
        "## Construcción de manipulador MK2 utilizando transformaciones (útil para entender la cinemática directa)"
      ]
    },
    {
      "cell_type": "code",
      "execution_count": 5,
      "metadata": {
        "colab": {
          "base_uri": "https://localhost:8080/",
          "height": 1000,
          "referenced_widgets": [
            "28ffe2726bb647cfa8cd30d230aa30e2",
            "620745fadafd424d9d8f12ac1a5fff56",
            "e9826e3dc1004576bdb018d5c64742b4",
            "e7fac08bc8c3487abb1990fdf39cd2eb",
            "70e3a522cebf4776a82d4ef6daeea9c6",
            "4e7521af18b94c10ac8572988ec7758c",
            "4d6c9454acdb4552a08418832541b837",
            "d004f8f4ee9d46029302255037e7dafd",
            "8bb58a4e442e419389e30220789fdab9",
            "d0008b873c7049ff9e158856f9c84d63",
            "22b41fe00eb341f9842c31091107f45d",
            "197938ba88774c7f9c1cbe35c084bb34",
            "f0c76cfb1f25478cb0a6bb62daabe618",
            "fa4eccf422b6460a93a7d0a3a08afc43",
            "2d3ad15766874d8b979b006c7fdf920b",
            "04b3275763b24db4b703666fe3fe51a2",
            "ae620467b8d944849523afc8b98db50a",
            "bf14f0a1b5a8472ab3634c63991ed392",
            "8c5e42f7e5a343f7a2608ecc7743a246"
          ]
        },
        "id": "gYQPweE9zjfY",
        "outputId": "f99fd514-16d1-4445-e091-4afd88ed3ce8"
      },
      "outputs": [
        {
          "output_type": "display_data",
          "data": {
            "text/plain": [
              "interactive(children=(IntSlider(value=90, description='q0', max=180), IntSlider(value=90, description='q1', ma…"
            ],
            "application/vnd.jupyter.widget-view+json": {
              "version_major": 2,
              "version_minor": 0,
              "model_id": "28ffe2726bb647cfa8cd30d230aa30e2"
            }
          },
          "metadata": {}
        },
        {
          "output_type": "execute_result",
          "data": {
            "text/plain": [
              "<function __main__.MK2(q0=90, q1=90, q2=90, L1=135.0, L2=147.0, a1=100.0, eff_off_x=66.3, eff_off_z=0.0)>"
            ],
            "text/html": [
              "<div style=\"max-width:800px; border: 1px solid var(--colab-border-color);\"><style>\n",
              "      pre.function-repr-contents {\n",
              "        overflow-x: auto;\n",
              "        padding: 8px 12px;\n",
              "        max-height: 500px;\n",
              "      }\n",
              "\n",
              "      pre.function-repr-contents.function-repr-contents-collapsed {\n",
              "        cursor: pointer;\n",
              "        max-height: 100px;\n",
              "      }\n",
              "    </style>\n",
              "    <pre style=\"white-space: initial; background:\n",
              "         var(--colab-secondary-surface-color); padding: 8px 12px;\n",
              "         border-bottom: 1px solid var(--colab-border-color);\"><b>MK2</b><br/>def MK2(q0=90, q1=90, q2=90, L1=135.0, L2=147.0, a1=100.0, eff_off_x=66.3, eff_off_z=0.0)</pre><pre class=\"function-repr-contents function-repr-contents-collapsed\" style=\"\"><a class=\"filepath\" style=\"display:none\" href=\"#\">/content/&lt;ipython-input-5-f36da0b0acd2&gt;</a>&lt;no docstring&gt;</pre></div>"
            ]
          },
          "metadata": {},
          "execution_count": 5
        }
      ],
      "source": [
        "def MK2(q0=90,q1=90,q2=90, L1=135.0,L2=147.0, a1=100.0, eff_off_x=66.3,eff_off_z=0.0):\n",
        "  #deg to rad\n",
        "  q0 = q0*np.pi/180\n",
        "  q1 = q1*np.pi/180\n",
        "  q2 = q2*np.pi/180\n",
        "\n",
        "  TF = Transformations()\n",
        "  Origen = np.identity(4) #pose de origen\n",
        "  #creamos las transformadas\n",
        "  T_a1 = TF.translation_transform(0,0,a1)\n",
        "  T_L1 = TF.translation_transform(0,0,L1)\n",
        "  T_L2 = TF.translation_transform(0,0,-L2)\n",
        "  T_tool = TF.translation_transform(eff_off_x,0,-eff_off_z)\n",
        "\n",
        "  #creamos las rotaciones\n",
        "  Rz_0 = TF.rot_z(np.pi/4-q0/2)\n",
        "  Ry_1 = TF.rot_y(q1-np.pi/2)\n",
        "  Rz_servo = TF.rot_z(np.pi) #compensacion de sentido del servo\n",
        "  Ry_2 = TF.rot_y(q1+q2-np.pi/2)\n",
        "  #compensar Ry_1 , Ry_2\n",
        "  R_wrist = np.linalg.inv(np.linalg.multi_dot([Ry_1,Rz_servo,Ry_2]))\n",
        "  #creamos las poses\n",
        "  q0_pose = np.linalg.multi_dot([Origen,Rz_0])\n",
        "  q1_pose = np.linalg.multi_dot([q0_pose,T_a1,Ry_1])\n",
        "  q2_pose = np.linalg.multi_dot([q1_pose,T_L1,Rz_servo,Ry_2])\n",
        "  wrist_pose = np.linalg.multi_dot([q2_pose,T_L2,R_wrist])\n",
        "  tip_pose = np.linalg.multi_dot([wrist_pose,T_tool])\n",
        "\n",
        "  M_o_n =  tip_pose\n",
        "  M_o_n = np.round(M_o_n,2)\n",
        "\n",
        "  #plot de poses\n",
        "  PG = PoseGenerator()\n",
        "  PG.create_fig3D()\n",
        "  PG.draw_axes_tf(Origen,\"Pose origen\")\n",
        "  PG.draw_axes_tf(q0_pose,\"q0 Pose\")\n",
        "  PG.draw_axes_tf(q1_pose,\"q1 Pose\")\n",
        "  PG.draw_axes_tf(q2_pose,\"q2 Pose\")\n",
        "  PG.draw_axes_tf(wrist_pose,\"Wrist Pose\")\n",
        "  PG.draw_axes_tf(M_o_n,\"Tip Pose\")\n",
        "  PG.show_fig()\n",
        "  print(\"Matriz resultante desde la base al efector: \\n\",M_o_n)\n",
        "  print(\"\\n\")\n",
        "  print(\"Coordenadas X,Y,Z:\",np.round(np.transpose(M_o_n)[3,0:3],2))\n",
        "  print(\"\\n\")\n",
        "  return M_o_n\n",
        "\n",
        "interact(MK2,q0=(0, 180, 1),q1=(0, 180, 1),q2=(0, 180, 1), eff_off_x=(0, 200, 1),eff_off_z=(0, 200, 1), L1=fixed(135.0), L2=fixed(147.0), a1=fixed(100.0))\n"
      ]
    },
    {
      "cell_type": "markdown",
      "source": [
        "## Ahora con la cinemática inversa"
      ],
      "metadata": {
        "id": "1x12zM2yNqrZ"
      }
    },
    {
      "cell_type": "markdown",
      "source": [
        "### Solución analítica 3D"
      ],
      "metadata": {
        "id": "cnZVN9LL5vmp"
      }
    },
    {
      "cell_type": "code",
      "source": [
        "def inverse_kinematics(X=150,Y=0,Z=60, eff_off_x=66.3, eff_off_z=0):\n",
        "\n",
        "    offset_z = 100\n",
        "    zb = Z - offset_z + eff_off_z\n",
        "    l1 = 135\n",
        "    l2 = 147\n",
        "\n",
        "    q0 = np.arctan2(Y,X)\n",
        "\n",
        "    if np.abs(Y)<1e-2:\n",
        "        xo = X-eff_off_x\n",
        "    else:\n",
        "        xo = np.sqrt((X-eff_off_x*np.cos(q0))**2 + (Y-eff_off_x*np.sin(q0))**2)\n",
        "\n",
        "    q1 = np.pi - np.arctan2(zb,xo) - np.arccos((xo**2 + zb**2 + l1**2-l2**2)/(2*l1*np.sqrt(xo**2 + zb**2)))\n",
        "    q2 = np.pi/2 - q1 + np.arccos((l1**2+l2**2-xo**2-zb**2)/(2*l1*l2))\n",
        "\n",
        "    #to deg\n",
        "    q0 = -2*np.round(np.rad2deg(q0),0)+90\n",
        "    q1 = np.round(np.rad2deg(q1),0)\n",
        "    q2 = np.round(np.rad2deg(q2),0)\n",
        "    return np.array([q0,q1,q2])"
      ],
      "metadata": {
        "id": "HrRZNPyZWvda"
      },
      "execution_count": 6,
      "outputs": []
    },
    {
      "cell_type": "markdown",
      "source": [
        "### Solución numérica 2D con método Newton-Raphson"
      ],
      "metadata": {
        "id": "CgaW3x4rTJ51"
      }
    },
    {
      "cell_type": "code",
      "source": [
        "\n",
        "def mk2(x, x_pos, z_pos, L1=135.0, L2=147.0, d1=66.3,d2=0,a1=100.0):\n",
        "  f1 = L1*np.cos(np.pi-x[0]) + L2*np.cos(x[1]-np.pi*0.5)+d1-x_pos\n",
        "  f2 = a1 + L1*np.sin(np.pi-x[0]) + L2*np.sin(x[1]-np.pi*0.5)-d2-z_pos\n",
        "  return np.array([f1,f2])\n",
        "\n",
        "def Jmk2(x, L1=135.0,L2=147.0):\n",
        "  J1 = [L1*np.sin(np.pi-x[0]),-L2*np.sin(x[1]-np.pi*0.5)]\n",
        "  J2 = -L1*np.cos(np.pi-x[0]),L2*np.cos(x[1]-np.pi*0.5)\n",
        "  return  np.array([J1,J2])\n",
        "\n",
        "def NR_2D_inverse_kinematics(target_pos, init_guess=np.array([np.deg2rad(140),np.deg2rad(50)]),eff_x=66.3,eff_z=0):\n",
        "  x = init_guess\n",
        "  g = mk2(x,target_pos[0],target_pos[1],d1=eff_x,d2=eff_z)\n",
        "  x= x-np.dot(np.linalg.inv(Jmk2(x)),g)\n",
        "  new_g = mk2(x,target_pos[0],target_pos[1],d1=eff_x,d2=eff_z)\n",
        "  it_num = 1\n",
        "  while np.linalg.norm(g-new_g)>1e-10:\n",
        "      g = new_g\n",
        "      x= x-np.dot(np.linalg.inv(Jmk2(x)),g)\n",
        "      new_g = mk2(x,target_pos[0],target_pos[1],d1=eff_x,d2=eff_z)\n",
        "      it_num += 1\n",
        "      if it_num > 1e3:\n",
        "        print(\"No converge\")\n",
        "        break\n",
        "  theta_1 = np.rad2deg(x[0])\n",
        "  theta_2 = np.rad2deg(x[1])\n",
        "  theta_1 = np.round(theta_1,0)\n",
        "  theta_2 = np.round(theta_2,0)\n",
        "  return np.array([theta_1,theta_2])\n"
      ],
      "metadata": {
        "id": "FiVbXCuZTPGT"
      },
      "execution_count": 7,
      "outputs": []
    },
    {
      "cell_type": "markdown",
      "source": [
        "### Probemos las soluciones"
      ],
      "metadata": {
        "id": "F0eXwwTZ9Wkv"
      }
    },
    {
      "cell_type": "code",
      "source": [
        "target=np.array([240.0,90.0]) #target para X y Z\n",
        "\n",
        "ang_analitica = inverse_kinematics(X=target[0],Z=target[1],eff_off_x=66,eff_off_z=24)\n",
        "print(\"Solucion analitica: \", ang_analitica)\n",
        "ang_numerica = NR_2D_inverse_kinematics(target,eff_x=66,eff_z=24)\n",
        "print(\"Solución numérica: \", ang_numerica)"
      ],
      "metadata": {
        "colab": {
          "base_uri": "https://localhost:8080/"
        },
        "id": "BfG_eHjUWtnT",
        "outputId": "8c229be6-7349-4d9f-e6fe-7f9a60bcdbef"
      },
      "execution_count": 8,
      "outputs": [
        {
          "output_type": "stream",
          "name": "stdout",
          "text": [
            "Solucion analitica:  [ 90. 120.  46.]\n",
            "Solución numérica:  [120.  46.]\n"
          ]
        }
      ]
    }
  ],
  "metadata": {
    "colab": {
      "provenance": []
    },
    "kernelspec": {
      "display_name": "Python 3",
      "name": "python3"
    },
    "language_info": {
      "name": "python"
    },
    "widgets": {
      "application/vnd.jupyter.widget-state+json": {
        "28ffe2726bb647cfa8cd30d230aa30e2": {
          "model_module": "@jupyter-widgets/controls",
          "model_name": "VBoxModel",
          "model_module_version": "1.5.0",
          "state": {
            "_dom_classes": [
              "widget-interact"
            ],
            "_model_module": "@jupyter-widgets/controls",
            "_model_module_version": "1.5.0",
            "_model_name": "VBoxModel",
            "_view_count": null,
            "_view_module": "@jupyter-widgets/controls",
            "_view_module_version": "1.5.0",
            "_view_name": "VBoxView",
            "box_style": "",
            "children": [
              "IPY_MODEL_620745fadafd424d9d8f12ac1a5fff56",
              "IPY_MODEL_e9826e3dc1004576bdb018d5c64742b4",
              "IPY_MODEL_e7fac08bc8c3487abb1990fdf39cd2eb",
              "IPY_MODEL_70e3a522cebf4776a82d4ef6daeea9c6",
              "IPY_MODEL_4e7521af18b94c10ac8572988ec7758c",
              "IPY_MODEL_4d6c9454acdb4552a08418832541b837"
            ],
            "layout": "IPY_MODEL_d004f8f4ee9d46029302255037e7dafd"
          }
        },
        "620745fadafd424d9d8f12ac1a5fff56": {
          "model_module": "@jupyter-widgets/controls",
          "model_name": "IntSliderModel",
          "model_module_version": "1.5.0",
          "state": {
            "_dom_classes": [],
            "_model_module": "@jupyter-widgets/controls",
            "_model_module_version": "1.5.0",
            "_model_name": "IntSliderModel",
            "_view_count": null,
            "_view_module": "@jupyter-widgets/controls",
            "_view_module_version": "1.5.0",
            "_view_name": "IntSliderView",
            "continuous_update": true,
            "description": "q0",
            "description_tooltip": null,
            "disabled": false,
            "layout": "IPY_MODEL_8bb58a4e442e419389e30220789fdab9",
            "max": 180,
            "min": 0,
            "orientation": "horizontal",
            "readout": true,
            "readout_format": "d",
            "step": 1,
            "style": "IPY_MODEL_d0008b873c7049ff9e158856f9c84d63",
            "value": 90
          }
        },
        "e9826e3dc1004576bdb018d5c64742b4": {
          "model_module": "@jupyter-widgets/controls",
          "model_name": "IntSliderModel",
          "model_module_version": "1.5.0",
          "state": {
            "_dom_classes": [],
            "_model_module": "@jupyter-widgets/controls",
            "_model_module_version": "1.5.0",
            "_model_name": "IntSliderModel",
            "_view_count": null,
            "_view_module": "@jupyter-widgets/controls",
            "_view_module_version": "1.5.0",
            "_view_name": "IntSliderView",
            "continuous_update": true,
            "description": "q1",
            "description_tooltip": null,
            "disabled": false,
            "layout": "IPY_MODEL_22b41fe00eb341f9842c31091107f45d",
            "max": 180,
            "min": 0,
            "orientation": "horizontal",
            "readout": true,
            "readout_format": "d",
            "step": 1,
            "style": "IPY_MODEL_197938ba88774c7f9c1cbe35c084bb34",
            "value": 90
          }
        },
        "e7fac08bc8c3487abb1990fdf39cd2eb": {
          "model_module": "@jupyter-widgets/controls",
          "model_name": "IntSliderModel",
          "model_module_version": "1.5.0",
          "state": {
            "_dom_classes": [],
            "_model_module": "@jupyter-widgets/controls",
            "_model_module_version": "1.5.0",
            "_model_name": "IntSliderModel",
            "_view_count": null,
            "_view_module": "@jupyter-widgets/controls",
            "_view_module_version": "1.5.0",
            "_view_name": "IntSliderView",
            "continuous_update": true,
            "description": "q2",
            "description_tooltip": null,
            "disabled": false,
            "layout": "IPY_MODEL_f0c76cfb1f25478cb0a6bb62daabe618",
            "max": 180,
            "min": 0,
            "orientation": "horizontal",
            "readout": true,
            "readout_format": "d",
            "step": 1,
            "style": "IPY_MODEL_fa4eccf422b6460a93a7d0a3a08afc43",
            "value": 90
          }
        },
        "70e3a522cebf4776a82d4ef6daeea9c6": {
          "model_module": "@jupyter-widgets/controls",
          "model_name": "IntSliderModel",
          "model_module_version": "1.5.0",
          "state": {
            "_dom_classes": [],
            "_model_module": "@jupyter-widgets/controls",
            "_model_module_version": "1.5.0",
            "_model_name": "IntSliderModel",
            "_view_count": null,
            "_view_module": "@jupyter-widgets/controls",
            "_view_module_version": "1.5.0",
            "_view_name": "IntSliderView",
            "continuous_update": true,
            "description": "eff_off_x",
            "description_tooltip": null,
            "disabled": false,
            "layout": "IPY_MODEL_2d3ad15766874d8b979b006c7fdf920b",
            "max": 200,
            "min": 0,
            "orientation": "horizontal",
            "readout": true,
            "readout_format": "d",
            "step": 1,
            "style": "IPY_MODEL_04b3275763b24db4b703666fe3fe51a2",
            "value": 66
          }
        },
        "4e7521af18b94c10ac8572988ec7758c": {
          "model_module": "@jupyter-widgets/controls",
          "model_name": "IntSliderModel",
          "model_module_version": "1.5.0",
          "state": {
            "_dom_classes": [],
            "_model_module": "@jupyter-widgets/controls",
            "_model_module_version": "1.5.0",
            "_model_name": "IntSliderModel",
            "_view_count": null,
            "_view_module": "@jupyter-widgets/controls",
            "_view_module_version": "1.5.0",
            "_view_name": "IntSliderView",
            "continuous_update": true,
            "description": "eff_off_z",
            "description_tooltip": null,
            "disabled": false,
            "layout": "IPY_MODEL_ae620467b8d944849523afc8b98db50a",
            "max": 200,
            "min": 0,
            "orientation": "horizontal",
            "readout": true,
            "readout_format": "d",
            "step": 1,
            "style": "IPY_MODEL_bf14f0a1b5a8472ab3634c63991ed392",
            "value": 0
          }
        },
        "4d6c9454acdb4552a08418832541b837": {
          "model_module": "@jupyter-widgets/output",
          "model_name": "OutputModel",
          "model_module_version": "1.0.0",
          "state": {
            "_dom_classes": [],
            "_model_module": "@jupyter-widgets/output",
            "_model_module_version": "1.0.0",
            "_model_name": "OutputModel",
            "_view_count": null,
            "_view_module": "@jupyter-widgets/output",
            "_view_module_version": "1.0.0",
            "_view_name": "OutputView",
            "layout": "IPY_MODEL_8c5e42f7e5a343f7a2608ecc7743a246",
            "msg_id": "",
            "outputs": [
              {
                "output_type": "display_data",
                "data": {
                  "text/plain": "<Figure size 1000x600 with 1 Axes>",
                  "image/png": "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\n"
                },
                "metadata": {}
              },
              {
                "output_type": "stream",
                "name": "stdout",
                "text": [
                  "Matriz resultante desde la base al efector: \n",
                  " [[  1.   0.   0. 213.]\n",
                  " [  0.   1.   0.  -0.]\n",
                  " [  0.   0.   1. 235.]\n",
                  " [  0.   0.   0.   1.]]\n",
                  "\n",
                  "\n",
                  "Coordenadas X,Y,Z: [213.  -0. 235.]\n",
                  "\n",
                  "\n"
                ]
              },
              {
                "output_type": "display_data",
                "data": {
                  "text/plain": "array([[  1.,   0.,   0., 213.],\n       [  0.,   1.,   0.,  -0.],\n       [  0.,   0.,   1., 235.],\n       [  0.,   0.,   0.,   1.]])"
                },
                "metadata": {}
              }
            ]
          }
        },
        "d004f8f4ee9d46029302255037e7dafd": {
          "model_module": "@jupyter-widgets/base",
          "model_name": "LayoutModel",
          "model_module_version": "1.2.0",
          "state": {
            "_model_module": "@jupyter-widgets/base",
            "_model_module_version": "1.2.0",
            "_model_name": "LayoutModel",
            "_view_count": null,
            "_view_module": "@jupyter-widgets/base",
            "_view_module_version": "1.2.0",
            "_view_name": "LayoutView",
            "align_content": null,
            "align_items": null,
            "align_self": null,
            "border": null,
            "bottom": null,
            "display": null,
            "flex": null,
            "flex_flow": null,
            "grid_area": null,
            "grid_auto_columns": null,
            "grid_auto_flow": null,
            "grid_auto_rows": null,
            "grid_column": null,
            "grid_gap": null,
            "grid_row": null,
            "grid_template_areas": null,
            "grid_template_columns": null,
            "grid_template_rows": null,
            "height": null,
            "justify_content": null,
            "justify_items": null,
            "left": null,
            "margin": null,
            "max_height": null,
            "max_width": null,
            "min_height": null,
            "min_width": null,
            "object_fit": null,
            "object_position": null,
            "order": null,
            "overflow": null,
            "overflow_x": null,
            "overflow_y": null,
            "padding": null,
            "right": null,
            "top": null,
            "visibility": null,
            "width": null
          }
        },
        "8bb58a4e442e419389e30220789fdab9": {
          "model_module": "@jupyter-widgets/base",
          "model_name": "LayoutModel",
          "model_module_version": "1.2.0",
          "state": {
            "_model_module": "@jupyter-widgets/base",
            "_model_module_version": "1.2.0",
            "_model_name": "LayoutModel",
            "_view_count": null,
            "_view_module": "@jupyter-widgets/base",
            "_view_module_version": "1.2.0",
            "_view_name": "LayoutView",
            "align_content": null,
            "align_items": null,
            "align_self": null,
            "border": null,
            "bottom": null,
            "display": null,
            "flex": null,
            "flex_flow": null,
            "grid_area": null,
            "grid_auto_columns": null,
            "grid_auto_flow": null,
            "grid_auto_rows": null,
            "grid_column": null,
            "grid_gap": null,
            "grid_row": null,
            "grid_template_areas": null,
            "grid_template_columns": null,
            "grid_template_rows": null,
            "height": null,
            "justify_content": null,
            "justify_items": null,
            "left": null,
            "margin": null,
            "max_height": null,
            "max_width": null,
            "min_height": null,
            "min_width": null,
            "object_fit": null,
            "object_position": null,
            "order": null,
            "overflow": null,
            "overflow_x": null,
            "overflow_y": null,
            "padding": null,
            "right": null,
            "top": null,
            "visibility": null,
            "width": null
          }
        },
        "d0008b873c7049ff9e158856f9c84d63": {
          "model_module": "@jupyter-widgets/controls",
          "model_name": "SliderStyleModel",
          "model_module_version": "1.5.0",
          "state": {
            "_model_module": "@jupyter-widgets/controls",
            "_model_module_version": "1.5.0",
            "_model_name": "SliderStyleModel",
            "_view_count": null,
            "_view_module": "@jupyter-widgets/base",
            "_view_module_version": "1.2.0",
            "_view_name": "StyleView",
            "description_width": "",
            "handle_color": null
          }
        },
        "22b41fe00eb341f9842c31091107f45d": {
          "model_module": "@jupyter-widgets/base",
          "model_name": "LayoutModel",
          "model_module_version": "1.2.0",
          "state": {
            "_model_module": "@jupyter-widgets/base",
            "_model_module_version": "1.2.0",
            "_model_name": "LayoutModel",
            "_view_count": null,
            "_view_module": "@jupyter-widgets/base",
            "_view_module_version": "1.2.0",
            "_view_name": "LayoutView",
            "align_content": null,
            "align_items": null,
            "align_self": null,
            "border": null,
            "bottom": null,
            "display": null,
            "flex": null,
            "flex_flow": null,
            "grid_area": null,
            "grid_auto_columns": null,
            "grid_auto_flow": null,
            "grid_auto_rows": null,
            "grid_column": null,
            "grid_gap": null,
            "grid_row": null,
            "grid_template_areas": null,
            "grid_template_columns": null,
            "grid_template_rows": null,
            "height": null,
            "justify_content": null,
            "justify_items": null,
            "left": null,
            "margin": null,
            "max_height": null,
            "max_width": null,
            "min_height": null,
            "min_width": null,
            "object_fit": null,
            "object_position": null,
            "order": null,
            "overflow": null,
            "overflow_x": null,
            "overflow_y": null,
            "padding": null,
            "right": null,
            "top": null,
            "visibility": null,
            "width": null
          }
        },
        "197938ba88774c7f9c1cbe35c084bb34": {
          "model_module": "@jupyter-widgets/controls",
          "model_name": "SliderStyleModel",
          "model_module_version": "1.5.0",
          "state": {
            "_model_module": "@jupyter-widgets/controls",
            "_model_module_version": "1.5.0",
            "_model_name": "SliderStyleModel",
            "_view_count": null,
            "_view_module": "@jupyter-widgets/base",
            "_view_module_version": "1.2.0",
            "_view_name": "StyleView",
            "description_width": "",
            "handle_color": null
          }
        },
        "f0c76cfb1f25478cb0a6bb62daabe618": {
          "model_module": "@jupyter-widgets/base",
          "model_name": "LayoutModel",
          "model_module_version": "1.2.0",
          "state": {
            "_model_module": "@jupyter-widgets/base",
            "_model_module_version": "1.2.0",
            "_model_name": "LayoutModel",
            "_view_count": null,
            "_view_module": "@jupyter-widgets/base",
            "_view_module_version": "1.2.0",
            "_view_name": "LayoutView",
            "align_content": null,
            "align_items": null,
            "align_self": null,
            "border": null,
            "bottom": null,
            "display": null,
            "flex": null,
            "flex_flow": null,
            "grid_area": null,
            "grid_auto_columns": null,
            "grid_auto_flow": null,
            "grid_auto_rows": null,
            "grid_column": null,
            "grid_gap": null,
            "grid_row": null,
            "grid_template_areas": null,
            "grid_template_columns": null,
            "grid_template_rows": null,
            "height": null,
            "justify_content": null,
            "justify_items": null,
            "left": null,
            "margin": null,
            "max_height": null,
            "max_width": null,
            "min_height": null,
            "min_width": null,
            "object_fit": null,
            "object_position": null,
            "order": null,
            "overflow": null,
            "overflow_x": null,
            "overflow_y": null,
            "padding": null,
            "right": null,
            "top": null,
            "visibility": null,
            "width": null
          }
        },
        "fa4eccf422b6460a93a7d0a3a08afc43": {
          "model_module": "@jupyter-widgets/controls",
          "model_name": "SliderStyleModel",
          "model_module_version": "1.5.0",
          "state": {
            "_model_module": "@jupyter-widgets/controls",
            "_model_module_version": "1.5.0",
            "_model_name": "SliderStyleModel",
            "_view_count": null,
            "_view_module": "@jupyter-widgets/base",
            "_view_module_version": "1.2.0",
            "_view_name": "StyleView",
            "description_width": "",
            "handle_color": null
          }
        },
        "2d3ad15766874d8b979b006c7fdf920b": {
          "model_module": "@jupyter-widgets/base",
          "model_name": "LayoutModel",
          "model_module_version": "1.2.0",
          "state": {
            "_model_module": "@jupyter-widgets/base",
            "_model_module_version": "1.2.0",
            "_model_name": "LayoutModel",
            "_view_count": null,
            "_view_module": "@jupyter-widgets/base",
            "_view_module_version": "1.2.0",
            "_view_name": "LayoutView",
            "align_content": null,
            "align_items": null,
            "align_self": null,
            "border": null,
            "bottom": null,
            "display": null,
            "flex": null,
            "flex_flow": null,
            "grid_area": null,
            "grid_auto_columns": null,
            "grid_auto_flow": null,
            "grid_auto_rows": null,
            "grid_column": null,
            "grid_gap": null,
            "grid_row": null,
            "grid_template_areas": null,
            "grid_template_columns": null,
            "grid_template_rows": null,
            "height": null,
            "justify_content": null,
            "justify_items": null,
            "left": null,
            "margin": null,
            "max_height": null,
            "max_width": null,
            "min_height": null,
            "min_width": null,
            "object_fit": null,
            "object_position": null,
            "order": null,
            "overflow": null,
            "overflow_x": null,
            "overflow_y": null,
            "padding": null,
            "right": null,
            "top": null,
            "visibility": null,
            "width": null
          }
        },
        "04b3275763b24db4b703666fe3fe51a2": {
          "model_module": "@jupyter-widgets/controls",
          "model_name": "SliderStyleModel",
          "model_module_version": "1.5.0",
          "state": {
            "_model_module": "@jupyter-widgets/controls",
            "_model_module_version": "1.5.0",
            "_model_name": "SliderStyleModel",
            "_view_count": null,
            "_view_module": "@jupyter-widgets/base",
            "_view_module_version": "1.2.0",
            "_view_name": "StyleView",
            "description_width": "",
            "handle_color": null
          }
        },
        "ae620467b8d944849523afc8b98db50a": {
          "model_module": "@jupyter-widgets/base",
          "model_name": "LayoutModel",
          "model_module_version": "1.2.0",
          "state": {
            "_model_module": "@jupyter-widgets/base",
            "_model_module_version": "1.2.0",
            "_model_name": "LayoutModel",
            "_view_count": null,
            "_view_module": "@jupyter-widgets/base",
            "_view_module_version": "1.2.0",
            "_view_name": "LayoutView",
            "align_content": null,
            "align_items": null,
            "align_self": null,
            "border": null,
            "bottom": null,
            "display": null,
            "flex": null,
            "flex_flow": null,
            "grid_area": null,
            "grid_auto_columns": null,
            "grid_auto_flow": null,
            "grid_auto_rows": null,
            "grid_column": null,
            "grid_gap": null,
            "grid_row": null,
            "grid_template_areas": null,
            "grid_template_columns": null,
            "grid_template_rows": null,
            "height": null,
            "justify_content": null,
            "justify_items": null,
            "left": null,
            "margin": null,
            "max_height": null,
            "max_width": null,
            "min_height": null,
            "min_width": null,
            "object_fit": null,
            "object_position": null,
            "order": null,
            "overflow": null,
            "overflow_x": null,
            "overflow_y": null,
            "padding": null,
            "right": null,
            "top": null,
            "visibility": null,
            "width": null
          }
        },
        "bf14f0a1b5a8472ab3634c63991ed392": {
          "model_module": "@jupyter-widgets/controls",
          "model_name": "SliderStyleModel",
          "model_module_version": "1.5.0",
          "state": {
            "_model_module": "@jupyter-widgets/controls",
            "_model_module_version": "1.5.0",
            "_model_name": "SliderStyleModel",
            "_view_count": null,
            "_view_module": "@jupyter-widgets/base",
            "_view_module_version": "1.2.0",
            "_view_name": "StyleView",
            "description_width": "",
            "handle_color": null
          }
        },
        "8c5e42f7e5a343f7a2608ecc7743a246": {
          "model_module": "@jupyter-widgets/base",
          "model_name": "LayoutModel",
          "model_module_version": "1.2.0",
          "state": {
            "_model_module": "@jupyter-widgets/base",
            "_model_module_version": "1.2.0",
            "_model_name": "LayoutModel",
            "_view_count": null,
            "_view_module": "@jupyter-widgets/base",
            "_view_module_version": "1.2.0",
            "_view_name": "LayoutView",
            "align_content": null,
            "align_items": null,
            "align_self": null,
            "border": null,
            "bottom": null,
            "display": null,
            "flex": null,
            "flex_flow": null,
            "grid_area": null,
            "grid_auto_columns": null,
            "grid_auto_flow": null,
            "grid_auto_rows": null,
            "grid_column": null,
            "grid_gap": null,
            "grid_row": null,
            "grid_template_areas": null,
            "grid_template_columns": null,
            "grid_template_rows": null,
            "height": null,
            "justify_content": null,
            "justify_items": null,
            "left": null,
            "margin": null,
            "max_height": null,
            "max_width": null,
            "min_height": null,
            "min_width": null,
            "object_fit": null,
            "object_position": null,
            "order": null,
            "overflow": null,
            "overflow_x": null,
            "overflow_y": null,
            "padding": null,
            "right": null,
            "top": null,
            "visibility": null,
            "width": null
          }
        }
      }
    }
  },
  "nbformat": 4,
  "nbformat_minor": 0
}